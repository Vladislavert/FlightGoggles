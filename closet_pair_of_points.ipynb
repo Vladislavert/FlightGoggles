{
  "nbformat": 4,
  "nbformat_minor": 0,
  "metadata": {
    "colab": {
      "provenance": [],
      "authorship_tag": "ABX9TyO4xZ42h7YrasUwo7W2d/lS",
      "include_colab_link": true
    },
    "kernelspec": {
      "name": "python3",
      "display_name": "Python 3"
    },
    "language_info": {
      "name": "python"
    }
  },
  "cells": [
    {
      "cell_type": "markdown",
      "metadata": {
        "id": "view-in-github",
        "colab_type": "text"
      },
      "source": [
        "<a href=\"https://colab.research.google.com/github/Vladislavert/FlightGoggles/blob/master/closet_pair_of_points.ipynb\" target=\"_parent\"><img src=\"https://colab.research.google.com/assets/colab-badge.svg\" alt=\"Open In Colab\"/></a>"
      ]
    },
    {
      "cell_type": "markdown",
      "source": [
        "Алгоритм, который позволяет находить со сложностью $O(nlogn)$ наименьшее расстояние между точками формаций.\n",
        "\n",
        "В качестве расстояния используется $l_2$ норма.\n",
        "$$distance = \\sqrt{(p_x - q_x)^2 + (p_y - q_y)^2 + (p_z - q_z)^2}$$"
      ],
      "metadata": {
        "id": "slzwLOpsQkuI"
      }
    },
    {
      "cell_type": "code",
      "execution_count": null,
      "metadata": {
        "id": "nQ2DExKLQg1o"
      },
      "outputs": [],
      "source": []
    }
  ]
}