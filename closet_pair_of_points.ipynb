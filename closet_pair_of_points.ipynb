{
  "nbformat": 4,
  "nbformat_minor": 0,
  "metadata": {
    "colab": {
      "provenance": [],
      "authorship_tag": "ABX9TyNUCPjSrBT/Oo1u0OyOmcsw",
      "include_colab_link": true
    },
    "kernelspec": {
      "name": "python3",
      "display_name": "Python 3"
    },
    "language_info": {
      "name": "python"
    }
  },
  "cells": [
    {
      "cell_type": "markdown",
      "metadata": {
        "id": "view-in-github",
        "colab_type": "text"
      },
      "source": [
        "<a href=\"https://colab.research.google.com/github/Vladislavert/FlightGoggles/blob/master/closet_pair_of_points.ipynb\" target=\"_parent\"><img src=\"https://colab.research.google.com/assets/colab-badge.svg\" alt=\"Open In Colab\"/></a>"
      ]
    },
    {
      "cell_type": "markdown",
      "source": [
        "Алгоритм, который позволяет находить со сложностью $O(nlogn)$ наименьшее расстояние между точками формаций.\n",
        "\n",
        "В качестве расстояния используется $l_2$ норма.\n",
        "$$distance = \\sqrt{(p_x - q_x)^2 + (p_y - q_y)^2 + (p_z - q_z)^2}$$"
      ],
      "metadata": {
        "id": "slzwLOpsQkuI"
      }
    },
    {
      "cell_type": "code",
      "execution_count": 16,
      "metadata": {
        "colab": {
          "base_uri": "https://localhost:8080/"
        },
        "id": "nQ2DExKLQg1o",
        "outputId": "08728c78-fac5-412b-eb0f-bd2f76cb0768"
      },
      "outputs": [
        {
          "output_type": "stream",
          "name": "stdout",
          "text": [
            "The smallest distance is 1.4142135623730951\n"
          ]
        }
      ],
      "source": [
        "import math\n",
        "\n",
        "class Point:\n",
        "  def __init__(self, x, y):\n",
        "    self.x = x\n",
        "    self.y = y\n",
        "    self.z = 0\n",
        "  \n",
        "  def distance(self, point):\n",
        "    dx = self.x - point.x\n",
        "    dy = self.y - point.y\n",
        "    dz = self.z - point.z\n",
        "    return math.sqrt(dx**2 + dy**2 + dz**2)\n",
        "  \n",
        "  def compareX(self, point):\n",
        "    return (self.x - point.x)\n",
        "\n",
        "  def compareX(self, point):\n",
        "    return (self.y - point.y)\n",
        "\n",
        "\n",
        "def min(x, y):\n",
        "  return x if x < y else y\n",
        "\n",
        "def distance(p1, p2):\n",
        "    dx = p1.x - p2.x\n",
        "    dy = p1.y - p2.y\n",
        "    dz = p1.z - p2.z\n",
        "    return math.sqrt(dx**2 + dy**2 + dz**2)\n",
        "\n",
        "\n",
        "def bruteForce(points, n):\n",
        "    min_dist = float(\"inf\")\n",
        "    for i in range(n):\n",
        "        for j in range(i+1, n):\n",
        "            if distance(points[i], points[j]) < min_dist:\n",
        "                min_dist = distance(points[i], points[j])\n",
        "    return min_dist\n",
        "\n",
        "\n",
        "# нахождение расстояния между ближайшими точками полосы заданного размера.\n",
        "# Точки в strip сортируются согласно координате y и имеют верхнюю границу d\n",
        "def stripClosest(strip, size,  d):\n",
        "    min_dist = d\n",
        " \n",
        "    for i in range(size):\n",
        "      for j in range(i+1, size):\n",
        "        if ((strip[j].y - strip[i].y) < min_dist):\n",
        "          break\n",
        "        if (distance(strip[i], strip[j]) < min_dist):\n",
        "          min_dist = distance(strip[i], strip[j]);\n",
        "\n",
        "    return min_dist\n",
        "\n",
        "\n",
        "def closestUtil(p_x, p_y, n):\n",
        "  if n <= 3:\n",
        "      return bruteForce(p_x, n)\n",
        "\n",
        "  mid = n//2\n",
        "  midPoint = p_x[mid]\n",
        "\n",
        "\n",
        "  # Divide points in y sorted array around the vertical line.\n",
        "  # Assumption: All x coordinates are distinct.\n",
        "  p_yl = []   # y sorted points on left of vertical line\n",
        "  p_yr = []  # y sorted points on right of vertical line\n",
        "  l_i = 0\n",
        "  for i in range(n):\n",
        "    if ((p_y[i].x < midPoint.x or (p_y[i].x == midPoint.x and p_y[i].y < midPoint.y)) and l_i<mid):\n",
        "        # Pyl[li++] = Py[i]\n",
        "        p_yl.append(p_y[i])\n",
        "        l_i += 1\n",
        "    else:\n",
        "        p_yr.append(p_y[i])\n",
        "    \n",
        "\n",
        "  dl = closestUtil(p_x, p_yl, mid)\n",
        "  dr = closestUtil(p_x[mid:], p_yr, n - mid)\n",
        "  d = min(dl, dr)\n",
        "  strip = []\n",
        "  for i in range(n):\n",
        "      if abs(p_y[i].x - midPoint.x) < d:\n",
        "          strip.append(p_y[i])\n",
        "\n",
        "\n",
        "  return stripClosest(strip, len(strip), d)\n",
        "\n",
        "\n",
        "def closest(point, n):\n",
        "  p_x = []\n",
        "  p_y = []\n",
        "\n",
        "\n",
        "  for i in range(n):\n",
        "    p_x.append(point[i])\n",
        "    p_y.append(point[i])\n",
        "\n",
        "  p_x = sorted(p_x, key=lambda point: point.x)\n",
        "  p_y = sorted(p_y, key=lambda point: point.y)\n",
        "\n",
        "\n",
        "  return (closestUtil(p_x, p_y, n))\n",
        "\n",
        "\n",
        "\n",
        "\n",
        "if __name__ == \"__main__\":\n",
        "    P = [Point(x=2, y=3), Point(x=12, y=30),\n",
        "         Point(x=40, y=50), Point(x=5, y=1), Point(x=12, y=10), Point(x=3, y=4)]\n",
        "    n = len(P)\n",
        "    print(\"The smallest distance is\", closest(P, n))"
      ]
    }
  ]
}